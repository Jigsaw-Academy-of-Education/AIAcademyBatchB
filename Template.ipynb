{
 "cells": [
  {
   "cell_type": "markdown",
   "id": "345d1dad",
   "metadata": {},
   "source": [
    "# Check point No: 2\n",
    "\n",
    "### Capstone project No x here : Name here\n",
    "- Capstone project No:\n",
    "- Batch Name:\n",
    "- Group No:\n",
    "- Group members:\n",
    "-----------------"
   ]
  },
  {
   "cell_type": "markdown",
   "id": "31179023",
   "metadata": {},
   "source": [
    "## Task No: 2.1 here"
   ]
  },
  {
   "cell_type": "markdown",
   "id": "4790f632",
   "metadata": {},
   "source": [
    "#### Q1. Task question here"
   ]
  },
  {
   "cell_type": "code",
   "execution_count": null,
   "id": "80923d9f",
   "metadata": {},
   "outputs": [],
   "source": [
    "# Your code solution and visulaization if any"
   ]
  },
  {
   "cell_type": "code",
   "execution_count": null,
   "id": "a6950f88",
   "metadata": {},
   "outputs": [],
   "source": []
  },
  {
   "cell_type": "markdown",
   "id": "a59df828",
   "metadata": {},
   "source": [
    ">Conclusion:"
   ]
  },
  {
   "cell_type": "markdown",
   "id": "0a43c3fb",
   "metadata": {},
   "source": [
    "#### Q2. Task question here"
   ]
  },
  {
   "cell_type": "code",
   "execution_count": 1,
   "id": "448a204b",
   "metadata": {},
   "outputs": [],
   "source": [
    "# Your code solution"
   ]
  },
  {
   "cell_type": "code",
   "execution_count": null,
   "id": "68d42703",
   "metadata": {},
   "outputs": [],
   "source": []
  },
  {
   "cell_type": "markdown",
   "id": "42de0cce",
   "metadata": {},
   "source": [
    ">Conclusion:"
   ]
  },
  {
   "cell_type": "markdown",
   "id": "62c565db",
   "metadata": {},
   "source": [
    "#### Qn. Task question here"
   ]
  },
  {
   "cell_type": "code",
   "execution_count": 4,
   "id": "5068eb80",
   "metadata": {},
   "outputs": [],
   "source": [
    "# Your code solution"
   ]
  },
  {
   "cell_type": "code",
   "execution_count": null,
   "id": "88cf286b",
   "metadata": {},
   "outputs": [],
   "source": []
  },
  {
   "cell_type": "markdown",
   "id": "d756a8ee",
   "metadata": {},
   "source": [
    "> Conclusion:"
   ]
  },
  {
   "cell_type": "markdown",
   "id": "20e91369",
   "metadata": {},
   "source": [
    "### Additional Insights here"
   ]
  },
  {
   "cell_type": "markdown",
   "id": "5ae8a301",
   "metadata": {},
   "source": [
    "##### Insight 1\n"
   ]
  },
  {
   "cell_type": "code",
   "execution_count": null,
   "id": "8763a9e0",
   "metadata": {},
   "outputs": [],
   "source": []
  },
  {
   "cell_type": "markdown",
   "id": "2aee0a16",
   "metadata": {},
   "source": [
    ">Conclusion:"
   ]
  },
  {
   "cell_type": "markdown",
   "id": "f0be7a43",
   "metadata": {},
   "source": [
    "##### Insight 2"
   ]
  },
  {
   "cell_type": "code",
   "execution_count": null,
   "id": "f8649ff5",
   "metadata": {},
   "outputs": [],
   "source": []
  },
  {
   "cell_type": "markdown",
   "id": "5ba95877",
   "metadata": {},
   "source": [
    ">Conclusion:"
   ]
  },
  {
   "cell_type": "markdown",
   "id": "983493e3",
   "metadata": {},
   "source": [
    "----------------\n",
    "\n",
    "## Task No: x.2"
   ]
  },
  {
   "cell_type": "code",
   "execution_count": null,
   "id": "41479caa",
   "metadata": {},
   "outputs": [],
   "source": [
    "# follow similar template as above task"
   ]
  },
  {
   "cell_type": "code",
   "execution_count": null,
   "id": "192b387c",
   "metadata": {},
   "outputs": [],
   "source": []
  },
  {
   "cell_type": "markdown",
   "id": "eeb6cee0",
   "metadata": {},
   "source": [
    "## 2. poweBI format with .pbix file\n",
    " - each tasks in seprate pages in powerBI,\n",
    " - In PowerBI include 2 dashboards - one at beginning (Welcome page+names) , other at the end which is storytelling of all task.\n"
   ]
  },
  {
   "cell_type": "code",
   "execution_count": null,
   "id": "4d00450f",
   "metadata": {},
   "outputs": [],
   "source": []
  }
 ],
 "metadata": {
  "kernelspec": {
   "display_name": "Python 3",
   "language": "python",
   "name": "python3"
  },
  "language_info": {
   "codemirror_mode": {
    "name": "ipython",
    "version": 3
   },
   "file_extension": ".py",
   "mimetype": "text/x-python",
   "name": "python",
   "nbconvert_exporter": "python",
   "pygments_lexer": "ipython3",
   "version": "3.8.8"
  }
 },
 "nbformat": 4,
 "nbformat_minor": 5
}
