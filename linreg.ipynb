{
 "cells": [
  {
   "cell_type": "code",
   "execution_count": 1,
   "metadata": {},
   "outputs": [
    {
     "name": "stderr",
     "output_type": "stream",
     "text": [
      "C:\\Users\\Dr Srinivas\\anaconda39\\lib\\site-packages\\numpy\\_distributor_init.py:30: UserWarning: loaded more than 1 DLL from .libs:\n",
      "C:\\Users\\Dr Srinivas\\anaconda39\\lib\\site-packages\\numpy\\.libs\\libopenblas.PYQHXLVVQ7VESDPUVUADXEVJOBGHJPAY.gfortran-win_amd64.dll\n",
      "C:\\Users\\Dr Srinivas\\anaconda39\\lib\\site-packages\\numpy\\.libs\\libopenblas.WCDJNK7YVMPZQ2ME2ZZHJJRJ3JIKNDB7.gfortran-win_amd64.dll\n",
      "C:\\Users\\Dr Srinivas\\anaconda39\\lib\\site-packages\\numpy\\.libs\\libopenblas.XWYDX2IKJW2NMTWSFYNGFUWKQU3LYTCZ.gfortran-win_amd64.dll\n",
      "  warnings.warn(\"loaded more than 1 DLL from .libs:\"\n"
     ]
    }
   ],
   "source": [
    "# Import Relevant libraries\n",
    "import tensorflow as tf\n",
    "import numpy as np\n",
    "import matplotlib.pyplot as plt"
   ]
  },
  {
   "cell_type": "code",
   "execution_count": 2,
   "metadata": {},
   "outputs": [
    {
     "data": {
      "text/plain": [
       "<matplotlib.collections.PathCollection at 0x1cf60c79610>"
      ]
     },
     "execution_count": 2,
     "metadata": {},
     "output_type": "execute_result"
    },
    {
     "data": {
      "image/png": "[encoded data removed]",
      "text/plain": [
       "<Figure size 432x288 with 1 Axes>"
      ]
     },
     "metadata": {
      "needs_background": "light"
     },
     "output_type": "display_data"
    }
   ],
   "source": [
    "# Learning rate\n",
    "learning_rate = 0.01\n",
    "\n",
    "# Number of loops for training through all your data to update the parameters\n",
    "training_epochs = 100\n",
    "\n",
    "# the training dataset\n",
    "x_train = np.linspace(0, 10, 100)\n",
    "y_train = x_train + np.random.normal(0,1,100)\n",
    "\n",
    "# plot of data\n",
    "plt.scatter(x_train, y_train)"
   ]
  },
  {
   "cell_type": "code",
   "execution_count": 3,
   "metadata": {},
   "outputs": [],
   "source": [
    "# declare weights\n",
    "weight = tf.Variable(0.)\n",
    "bias = tf.Variable(0.)"
   ]
  },
  {
   "cell_type": "code",
   "execution_count": 4,
   "metadata": {},
   "outputs": [],
   "source": [
    "# Define linear regression expression y\n",
    "def linreg(x):\n",
    "    y = weight*x + bias\n",
    "    return y"
   ]
  },
  {
   "cell_type": "code",
   "execution_count": 5,
   "metadata": {},
   "outputs": [],
   "source": [
    "# Define loss function (MSE)\n",
    "def squared_error(y_pred, y_true):\n",
    "    return tf.reduce_mean(tf.square(y_pred - y_true))"
   ]
  },
  {
   "cell_type": "code",
   "execution_count": 6,
   "metadata": {},
   "outputs": [
    {
     "name": "stdout",
     "output_type": "stream",
     "text": [
      "Epoch count 0: Loss value: 34.68439483642578\n",
      "Epoch count 1: Loss value: 4.416020393371582\n",
      "Epoch count 2: Loss value: 1.4137452840805054\n",
      "Epoch count 3: Loss value: 1.1157557964324951\n",
      "Epoch count 4: Loss value: 1.0859827995300293\n",
      "Epoch count 5: Loss value: 1.0828135013580322\n",
      "Epoch count 6: Loss value: 1.0822852849960327\n",
      "Epoch count 7: Loss value: 1.0820212364196777\n",
      "Epoch count 8: Loss value: 1.0817850828170776\n",
      "Epoch count 9: Loss value: 1.0815540552139282\n",
      "Epoch count 10: Loss value: 1.0813254117965698\n",
      "Epoch count 11: Loss value: 1.081099271774292\n",
      "Epoch count 12: Loss value: 1.080875277519226\n",
      "Epoch count 13: Loss value: 1.080653429031372\n",
      "Epoch count 14: Loss value: 1.0804338455200195\n",
      "Epoch count 15: Loss value: 1.0802165269851685\n",
      "Epoch count 16: Loss value: 1.0800011157989502\n",
      "Epoch count 17: Loss value: 1.079788088798523\n",
      "Epoch count 18: Loss value: 1.079577088356018\n",
      "Epoch count 19: Loss value: 1.0793681144714355\n",
      "Epoch count 20: Loss value: 1.0791611671447754\n",
      "Epoch count 21: Loss value: 1.0789564847946167\n",
      "Epoch count 22: Loss value: 1.0787537097930908\n",
      "Epoch count 23: Loss value: 1.0785528421401978\n",
      "Epoch count 24: Loss value: 1.0783541202545166\n",
      "Epoch count 25: Loss value: 1.0781573057174683\n",
      "Epoch count 26: Loss value: 1.0779625177383423\n",
      "Epoch count 27: Loss value: 1.0777695178985596\n",
      "Epoch count 28: Loss value: 1.0775784254074097\n",
      "Epoch count 29: Loss value: 1.0773893594741821\n",
      "Epoch count 30: Loss value: 1.0772022008895874\n",
      "Epoch count 31: Loss value: 1.0770167112350464\n",
      "Epoch count 32: Loss value: 1.0768332481384277\n",
      "Epoch count 33: Loss value: 1.0766514539718628\n",
      "Epoch count 34: Loss value: 1.0764714479446411\n",
      "Epoch count 35: Loss value: 1.0762932300567627\n",
      "Epoch count 36: Loss value: 1.0761168003082275\n",
      "Epoch count 37: Loss value: 1.0759421586990356\n",
      "Epoch count 38: Loss value: 1.0757691860198975\n",
      "Epoch count 39: Loss value: 1.075598120689392\n",
      "Epoch count 40: Loss value: 1.0754284858703613\n",
      "Epoch count 41: Loss value: 1.0752606391906738\n",
      "Epoch count 42: Loss value: 1.0750945806503296\n",
      "Epoch count 43: Loss value: 1.07492995262146\n",
      "Epoch count 44: Loss value: 1.074766993522644\n",
      "Epoch count 45: Loss value: 1.0746058225631714\n",
      "Epoch count 46: Loss value: 1.0744460821151733\n",
      "Epoch count 47: Loss value: 1.0742878913879395\n",
      "Epoch count 48: Loss value: 1.0741313695907593\n",
      "Epoch count 49: Loss value: 1.0739765167236328\n",
      "Epoch count 50: Loss value: 1.0738229751586914\n",
      "Epoch count 51: Loss value: 1.0736709833145142\n",
      "Epoch count 52: Loss value: 1.073520541191101\n",
      "Epoch count 53: Loss value: 1.0733715295791626\n",
      "Epoch count 54: Loss value: 1.0732240676879883\n",
      "Epoch count 55: Loss value: 1.0730781555175781\n",
      "Epoch count 56: Loss value: 1.0729336738586426\n",
      "Epoch count 57: Loss value: 1.072790503501892\n",
      "Epoch count 58: Loss value: 1.0726487636566162\n",
      "Epoch count 59: Loss value: 1.0725083351135254\n",
      "Epoch count 60: Loss value: 1.0723693370819092\n",
      "Epoch count 61: Loss value: 1.0722320079803467\n",
      "Epoch count 62: Loss value: 1.0720957517623901\n",
      "Epoch count 63: Loss value: 1.0719609260559082\n",
      "Epoch count 64: Loss value: 1.0718274116516113\n",
      "Epoch count 65: Loss value: 1.0716952085494995\n",
      "Epoch count 66: Loss value: 1.0715644359588623\n",
      "Epoch count 67: Loss value: 1.0714348554611206\n",
      "Epoch count 68: Loss value: 1.0713064670562744\n",
      "Epoch count 69: Loss value: 1.0711793899536133\n",
      "Epoch count 70: Loss value: 1.0710537433624268\n",
      "Epoch count 71: Loss value: 1.0709291696548462\n",
      "Epoch count 72: Loss value: 1.0708057880401611\n",
      "Epoch count 73: Loss value: 1.0706839561462402\n",
      "Epoch count 74: Loss value: 1.0705628395080566\n",
      "Epoch count 75: Loss value: 1.0704433917999268\n",
      "Epoch count 76: Loss value: 1.0703248977661133\n",
      "Epoch count 77: Loss value: 1.0702075958251953\n",
      "Epoch count 78: Loss value: 1.0700914859771729\n",
      "Epoch count 79: Loss value: 1.0699764490127563\n",
      "Epoch count 80: Loss value: 1.0698626041412354\n",
      "Epoch count 81: Loss value: 1.0697499513626099\n",
      "Epoch count 82: Loss value: 1.0696382522583008\n",
      "Epoch count 83: Loss value: 1.0695278644561768\n",
      "Epoch count 84: Loss value: 1.0694183111190796\n",
      "Epoch count 85: Loss value: 1.069309949874878\n",
      "Epoch count 86: Loss value: 1.0692027807235718\n",
      "Epoch count 87: Loss value: 1.069096565246582\n",
      "Epoch count 88: Loss value: 1.0689914226531982\n",
      "Epoch count 89: Loss value: 1.0688873529434204\n",
      "Epoch count 90: Loss value: 1.068784236907959\n",
      "Epoch count 91: Loss value: 1.0686821937561035\n",
      "Epoch count 92: Loss value: 1.068581223487854\n",
      "Epoch count 93: Loss value: 1.0684810876846313\n",
      "Epoch count 94: Loss value: 1.0683822631835938\n",
      "Epoch count 95: Loss value: 1.0682841539382935\n",
      "Epoch count 96: Loss value: 1.0681869983673096\n",
      "Epoch count 97: Loss value: 1.0680909156799316\n",
      "Epoch count 98: Loss value: 1.0679956674575806\n",
      "Epoch count 99: Loss value: 1.0679014921188354\n"
     ]
    }
   ],
   "source": [
    "# train model\n",
    "for epoch in range(training_epochs):\n",
    "\n",
    "# Compute loss within Gradient Tape context\n",
    "    with tf.GradientTape() as tape:\n",
    "        y_predicted = linreg(x_train)\n",
    "        loss = squared_error(y_predicted, y_train)\n",
    "\n",
    "# Get gradients\n",
    "        gradients = tape.gradient(loss, [weight,bias])\n",
    "\n",
    "# Adjust weights\n",
    "        weight.assign_sub(gradients[0]*learning_rate)\n",
    "        bias.assign_sub(gradients[1]*learning_rate)\n",
    "\n",
    "# Print output\n",
    "        print(f\"Epoch count {epoch}: Loss value: {loss.numpy()}\")"
   ]
  },
  {
   "cell_type": "code",
   "execution_count": 7,
   "metadata": {},
   "outputs": [
    {
     "name": "stdout",
     "output_type": "stream",
     "text": [
      "0.9980026\n",
      "0.023648757\n"
     ]
    }
   ],
   "source": [
    "print(weight.numpy())\n",
    "print(bias.numpy())"
   ]
  },
  {
   "cell_type": "code",
   "execution_count": 8,
   "metadata": {},
   "outputs": [
    {
     "data": {
      "image/png": "[encoded data removed]",
      "text/plain": [
       "<Figure size 432x288 with 1 Axes>"
      ]
     },
     "metadata": {
      "needs_background": "light"
     },
     "output_type": "display_data"
    }
   ],
   "source": [
    "# Plot the best fit line\n",
    "plt.scatter(x_train, y_train)\n",
    "plt.plot(x_train, linreg(x_train), 'r')\n",
    "plt.show()"
   ]
  },
  {
   "cell_type": "code",
   "execution_count": null,
   "metadata": {},
   "outputs": [],
   "source": []
  }
 ],
 "metadata": {
  "kernelspec": {
   "display_name": "Python 3",
   "language": "python",
   "name": "python3"
  },
  "language_info": {
   "codemirror_mode": {
    "name": "ipython",
    "version": 3
   },
   "file_extension": ".py",
   "mimetype": "text/x-python",
   "name": "python",
   "nbconvert_exporter": "python",
   "pygments_lexer": "ipython3",
   "version": "3.8.5"
  }
 },
 "nbformat": 4,
 "nbformat_minor": 4
}
