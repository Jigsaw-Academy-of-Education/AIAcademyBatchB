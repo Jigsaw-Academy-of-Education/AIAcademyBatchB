{
 "cells": [
  {
   "cell_type": "code",
   "execution_count": 1,
   "metadata": {},
   "outputs": [
    {
     "name": "stderr",
     "output_type": "stream",
     "text": [
      "C:\\Users\\Dr Srinivas\\anaconda39\\lib\\site-packages\\numpy\\_distributor_init.py:30: UserWarning: loaded more than 1 DLL from .libs:\n",
      "C:\\Users\\Dr Srinivas\\anaconda39\\lib\\site-packages\\numpy\\.libs\\libopenblas.PYQHXLVVQ7VESDPUVUADXEVJOBGHJPAY.gfortran-win_amd64.dll\n",
      "C:\\Users\\Dr Srinivas\\anaconda39\\lib\\site-packages\\numpy\\.libs\\libopenblas.WCDJNK7YVMPZQ2ME2ZZHJJRJ3JIKNDB7.gfortran-win_amd64.dll\n",
      "C:\\Users\\Dr Srinivas\\anaconda39\\lib\\site-packages\\numpy\\.libs\\libopenblas.xwydx2ikjw2nmtwsfyngfuwkqu3lytcz.gfortran-win_amd64.dll\n",
      "  warnings.warn(\"loaded more than 1 DLL from .libs:\"\n"
     ]
    }
   ],
   "source": [
    "import gensim\n",
    "from gensim.models import word2vec\n",
    " \n",
    "import logging"
   ]
  },
  {
   "cell_type": "code",
   "execution_count": 2,
   "metadata": {},
   "outputs": [],
   "source": [
    "sentences = word2vec.Text8Corpus('text81')\n",
    " \n",
    "model = word2vec.Word2Vec(sentences, size=200)\n"
   ]
  },
  {
   "cell_type": "code",
   "execution_count": 3,
   "metadata": {},
   "outputs": [
    {
     "name": "stderr",
     "output_type": "stream",
     "text": [
      "<ipython-input-3-e58ff05b8427>:1: DeprecationWarning: Call to deprecated `most_similar` (Method will be removed in 4.0.0, use self.wv.most_similar() instead).\n",
      "  model.most_similar(['phenomenon'])\n"
     ]
    },
    {
     "data": {
      "text/plain": [
       "[('hypothesis', 0.6604791879653931),\n",
       " ('variation', 0.630375325679779),\n",
       " ('phenomena', 0.6262999773025513),\n",
       " ('aspect', 0.6228067278862),\n",
       " ('trend', 0.609160304069519),\n",
       " ('trait', 0.6055785417556763),\n",
       " ('characterization', 0.6051384210586548),\n",
       " ('notion', 0.6021820306777954),\n",
       " ('occurrence', 0.5999407768249512),\n",
       " ('behavior', 0.5955665111541748)]"
      ]
     },
     "execution_count": 3,
     "metadata": {},
     "output_type": "execute_result"
    }
   ],
   "source": [
    "\n",
    "model.most_similar(['phenomenon'])\n"
   ]
  },
  {
   "cell_type": "code",
   "execution_count": 4,
   "metadata": {},
   "outputs": [
    {
     "name": "stderr",
     "output_type": "stream",
     "text": [
      "<ipython-input-4-4c132789da20>:1: DeprecationWarning: Call to deprecated `most_similar` (Method will be removed in 4.0.0, use self.wv.most_similar() instead).\n",
      "  model.most_similar(['intelligent'])\n"
     ]
    },
    {
     "data": {
      "text/plain": [
       "[('innate', 0.6330742835998535),\n",
       " ('utilitarian', 0.6310811638832092),\n",
       " ('subjective', 0.6237204074859619),\n",
       " ('conscious', 0.6236361861228943),\n",
       " ('rational', 0.6166184544563293),\n",
       " ('intuitive', 0.6034447550773621),\n",
       " ('creationism', 0.598801851272583),\n",
       " ('extraterrestrial', 0.5924539566040039),\n",
       " ('anthropic', 0.5865131616592407),\n",
       " ('plausible', 0.5770686268806458)]"
      ]
     },
     "execution_count": 4,
     "metadata": {},
     "output_type": "execute_result"
    }
   ],
   "source": [
    "model.most_similar(['intelligent'])\n"
   ]
  },
  {
   "cell_type": "code",
   "execution_count": 5,
   "metadata": {},
   "outputs": [
    {
     "name": "stderr",
     "output_type": "stream",
     "text": [
      "<ipython-input-5-580394284933>:1: DeprecationWarning: Call to deprecated `most_similar` (Method will be removed in 4.0.0, use self.wv.most_similar() instead).\n",
      "  model.most_similar(['king'])\n"
     ]
    },
    {
     "data": {
      "text/plain": [
       "[('prince', 0.6874231100082397),\n",
       " ('kings', 0.6716784238815308),\n",
       " ('queen', 0.6591410636901855),\n",
       " ('throne', 0.6480857133865356),\n",
       " ('emperor', 0.6241267919540405),\n",
       " ('aragon', 0.6070578694343567),\n",
       " ('regent', 0.602512001991272),\n",
       " ('constantine', 0.5980832576751709),\n",
       " ('elector', 0.596379816532135),\n",
       " ('pope', 0.5955590009689331)]"
      ]
     },
     "execution_count": 5,
     "metadata": {},
     "output_type": "execute_result"
    }
   ],
   "source": [
    "model.most_similar(['king'])\n"
   ]
  },
  {
   "cell_type": "code",
   "execution_count": 6,
   "metadata": {},
   "outputs": [
    {
     "name": "stderr",
     "output_type": "stream",
     "text": [
      "<ipython-input-6-2a945210c605>:1: DeprecationWarning: Call to deprecated `most_similar` (Method will be removed in 4.0.0, use self.wv.most_similar() instead).\n",
      "  model.most_similar(['smart'])\n"
     ]
    },
    {
     "data": {
      "text/plain": [
       "[('toy', 0.6439543962478638),\n",
       " ('dumb', 0.6274635791778564),\n",
       " ('accessories', 0.621140718460083),\n",
       " ('robots', 0.6165239810943604),\n",
       " ('toys', 0.6144940853118896),\n",
       " ('crazy', 0.5945472717285156),\n",
       " ('watches', 0.5922656059265137),\n",
       " ('clever', 0.5915384292602539),\n",
       " ('stunt', 0.5913684368133545),\n",
       " ('fancy', 0.5889949798583984)]"
      ]
     },
     "execution_count": 6,
     "metadata": {},
     "output_type": "execute_result"
    }
   ],
   "source": [
    "model.most_similar(['smart'])\n"
   ]
  },
  {
   "cell_type": "code",
   "execution_count": 7,
   "metadata": {},
   "outputs": [
    {
     "name": "stderr",
     "output_type": "stream",
     "text": [
      "<ipython-input-7-b796461163c2>:1: DeprecationWarning: Call to deprecated `most_similar` (Method will be removed in 4.0.0, use self.wv.most_similar() instead).\n",
      "  model.most_similar(['talented'])\n"
     ]
    },
    {
     "data": {
      "text/plain": [
       "[('gifted', 0.7708266377449036),\n",
       " ('skilled', 0.7555728554725647),\n",
       " ('prolific', 0.6796857118606567),\n",
       " ('brilliant', 0.6603540778160095),\n",
       " ('respected', 0.6399682760238647),\n",
       " ('trained', 0.6293150186538696),\n",
       " ('skillful', 0.6253634095191956),\n",
       " ('wealthy', 0.6215403079986572),\n",
       " ('esteemed', 0.6177768707275391),\n",
       " ('superb', 0.6141495704650879)]"
      ]
     },
     "execution_count": 7,
     "metadata": {},
     "output_type": "execute_result"
    }
   ],
   "source": [
    "model.most_similar(['talented'])\n"
   ]
  },
  {
   "cell_type": "code",
   "execution_count": 8,
   "metadata": {},
   "outputs": [
    {
     "name": "stderr",
     "output_type": "stream",
     "text": [
      "<ipython-input-8-41a014f6f173>:1: DeprecationWarning: Call to deprecated `most_similar` (Method will be removed in 4.0.0, use self.wv.most_similar() instead).\n",
      "  model.most_similar(['neutral'])\n"
     ]
    },
    {
     "data": {
      "text/plain": [
       "[('weak', 0.6946650147438049),\n",
       " ('unstable', 0.5960276126861572),\n",
       " ('homogeneous', 0.5925726890563965),\n",
       " ('adjectival', 0.5780500173568726),\n",
       " ('passive', 0.5769358277320862),\n",
       " ('reactive', 0.5752701163291931),\n",
       " ('rigid', 0.5748657584190369),\n",
       " ('covalent', 0.5654709339141846),\n",
       " ('ambiguous', 0.5612459778785706),\n",
       " ('binding', 0.5566273927688599)]"
      ]
     },
     "execution_count": 8,
     "metadata": {},
     "output_type": "execute_result"
    }
   ],
   "source": [
    "model.most_similar(['neutral'])"
   ]
  },
  {
   "cell_type": "code",
   "execution_count": 9,
   "metadata": {},
   "outputs": [
    {
     "name": "stderr",
     "output_type": "stream",
     "text": [
      "<ipython-input-9-09b0e1eddbc1>:1: DeprecationWarning: Call to deprecated `most_similar` (Method will be removed in 4.0.0, use self.wv.most_similar() instead).\n",
      "  model.most_similar(['prince'])\n"
     ]
    },
    {
     "data": {
      "text/plain": [
       "[('regent', 0.7882086038589478),\n",
       " ('princess', 0.7862213850021362),\n",
       " ('elector', 0.7769312858581543),\n",
       " ('aragon', 0.765487790107727),\n",
       " ('burgundy', 0.7553691267967224),\n",
       " ('duchess', 0.7446160316467285),\n",
       " ('isabella', 0.7400210499763489),\n",
       " ('empress', 0.7373158931732178),\n",
       " ('margrave', 0.7300776839256287),\n",
       " ('aquitaine', 0.7248908281326294)]"
      ]
     },
     "execution_count": 9,
     "metadata": {},
     "output_type": "execute_result"
    }
   ],
   "source": [
    "model.most_similar(['prince'])\n"
   ]
  },
  {
   "cell_type": "code",
   "execution_count": 10,
   "metadata": {},
   "outputs": [],
   "source": [
    "model.wv.save_word2vec_format('text.model.bin', binary=True)\n",
    "model1 = gensim.models.KeyedVectors.load_word2vec_format('text.model.bin', binary=True)"
   ]
  },
  {
   "cell_type": "code",
   "execution_count": 11,
   "metadata": {},
   "outputs": [
    {
     "data": {
      "text/plain": [
       "[('mother', 0.740687370300293),\n",
       " ('wife', 0.6647496223449707),\n",
       " ('lover', 0.6597691774368286),\n",
       " ('grandmother', 0.6435863375663757),\n",
       " ('aunt', 0.6431347131729126)]"
      ]
     },
     "execution_count": 11,
     "metadata": {},
     "output_type": "execute_result"
    }
   ],
   "source": [
    "model1.most_similar(['girl', 'father'], ['boy'], topn=5)\n"
   ]
  },
  {
   "cell_type": "code",
   "execution_count": 12,
   "metadata": {},
   "outputs": [
    {
     "name": "stdout",
     "output_type": "stream",
     "text": [
      "'he' is to 'is' as 'she' is to 'represents'\n",
      "'big' is to 'bigger' as 'good' is to 'stronger'\n",
      "'going' is to 'went' as 'being' is to 'was'\n",
      "'king' is to 'queen' as 'man' is to 'woman'\n"
     ]
    }
   ],
   "source": [
    "more_examples = [\"he is she\", \"big bigger good\", \"going went being\",\"king queen man\"]\n",
    "\n",
    "for example in more_examples:\n",
    "    a, b, x = example.split()\n",
    "    predicted = model1.most_similar([b,x], [a])[0][0]\n",
    "    print (\"'%s' is to '%s' as '%s' is to '%s'\" % (a, b, x, predicted))"
   ]
  },
  {
   "cell_type": "code",
   "execution_count": null,
   "metadata": {},
   "outputs": [],
   "source": []
  },
  {
   "cell_type": "code",
   "execution_count": null,
   "metadata": {},
   "outputs": [],
   "source": []
  }
 ],
 "metadata": {
  "kernelspec": {
   "display_name": "Python 3",
   "language": "python",
   "name": "python3"
  },
  "language_info": {
   "codemirror_mode": {
    "name": "ipython",
    "version": 3
   },
   "file_extension": ".py",
   "mimetype": "text/x-python",
   "name": "python",
   "nbconvert_exporter": "python",
   "pygments_lexer": "ipython3",
   "version": "3.8.5"
  }
 },
 "nbformat": 4,
 "nbformat_minor": 2
}
